{
 "cells": [
  {
   "cell_type": "markdown",
   "metadata": {},
   "source": [
    "# Linked List (python implementation)\n",
    "\n",
    "### [Glitched Failure Video](https://youtu.be/F5_H9Z2QDxc)\n"
   ]
  },
  {
   "cell_type": "markdown",
   "metadata": {},
   "source": [
    "## Table of Contents\n",
    "1. [What is a (Singly) `LinkedList`?](#1.-What-is-a-(Singly)-LinkedList?)\n",
    "2. [`LinkedList` implementation](#2.-LinkedList-implementation)\n",
    "3. [Reverse a `LinkedList`](#3.-Reverse-a-LinkedList)\n",
    "4. [What is a doubly linked list?](#4.-What-is-a-doubly-linked-list?)"
   ]
  },
  {
   "cell_type": "markdown",
   "metadata": {},
   "source": [
    "## 1. What is a (Singly) `LinkedList`?\n",
    "\n",
    "A `LinkedList` is a data structure that holds a linear collection, or sequence, of in-order data elements (often represented as nodes)."
   ]
  },
  {
   "cell_type": "markdown",
   "metadata": {},
   "source": [
    "## 2. `LinkedList` implementation\n",
    "\n",
    "`Node` class: a simple object with two variables:\n",
    "1. A `value`\n",
    "2. A `.next`, which will point to the next `Node` in the sequence"
   ]
  },
  {
   "cell_type": "code",
   "execution_count": 5,
   "metadata": {},
   "outputs": [],
   "source": [
    "class Node:\n",
    "    def __init__(self, value):\n",
    "        self.value = value\n",
    "        self.next = None\n",
    "        \n",
    "    def __repr__(self):\n",
    "        return f\"Node {self.value}\""
   ]
  },
  {
   "cell_type": "code",
   "execution_count": 6,
   "metadata": {},
   "outputs": [
    {
     "data": {
      "text/plain": [
       "Node 45"
      ]
     },
     "execution_count": 6,
     "metadata": {},
     "output_type": "execute_result"
    }
   ],
   "source": [
    "Node(\"45\")"
   ]
  },
  {
   "cell_type": "markdown",
   "metadata": {},
   "source": [
    "`LinkedList` class: Wraps around a `Node` and handles basic list operations\n",
    "\n",
    "1. Contains a variable `root`, which points to the first `Node` in the sequence\n",
    "2. `prepend` method adds a new value to the start of the list\n",
    "3. `append` method adds a new value to the end of the list\n",
    "4. `pop` method removes and returns the first value of the list\n",
    "5. `pop_at_index` method removes and returns the value at given index of the list\n",
    "6. Contains a variable `length` (or `__len__` method) returning the total length of the list\n",
    "7. `print_list` method prints each value of the list"
   ]
  },
  {
   "cell_type": "code",
   "execution_count": 7,
   "metadata": {},
   "outputs": [],
   "source": [
    "class LinkedList:\n",
    "    def __init__(self):\n",
    "        self.root = None\n",
    "        self.length = 0\n",
    "    \n",
    "    def __repr__(self):\n",
    "        return f\"LinkedList: Root = {self.root if self.root else 'None'}\"\n",
    "    \n",
    "    def print_list(self):\n",
    "        curr_node = self.root\n",
    "        \n",
    "        while curr_node:\n",
    "            print(curr_node.value, end=\", \")\n",
    "            curr_node = curr_node.next\n",
    "    \n",
    "    def prepend(self, value):\n",
    "        new_node = Node(value)\n",
    "        self.length += 1 # handle list length\n",
    "        \n",
    "        # assign to root if no root\n",
    "        if not self.root:\n",
    "            self.root = new_node\n",
    "            return\n",
    "        \n",
    "        # add current \"chain\" of Nodes to new root\n",
    "        new_node.next = self.root\n",
    "        \n",
    "        # new_node becomes the root\n",
    "        self.root = new_node\n",
    "        \n",
    "    def append(self, value):\n",
    "        new_node = Node(value)\n",
    "        self.length += 1 # handle list length\n",
    "        \n",
    "        # assign to root if no root\n",
    "        if not self.root:\n",
    "            self.root = new_node\n",
    "            return\n",
    "        \n",
    "        # navigate to end of list\n",
    "        last_node = self.root\n",
    "        while True:\n",
    "            if last_node.next is None:\n",
    "                break\n",
    "            last_node = last_node.next\n",
    "        \n",
    "        last_node.next = new_node\n",
    "    \n",
    "    def validate_root_exists(self):\n",
    "        if self.root is None:\n",
    "            raise Exception(\"List is empty\")\n",
    "            \n",
    "    \n",
    "    def pop(self):\n",
    "        # throw error is no root node\n",
    "        self.validate_root_exists()\n",
    "            \n",
    "        # keep root object reference\n",
    "        temp_node = self.root\n",
    "        \n",
    "        # reassign root to next node\n",
    "        self.root = self.root.next\n",
    "        \n",
    "        self.length -= 1 #handle list length\n",
    "        return temp_node.value\n",
    "    \n",
    "    def pop_at_index(self, index):\n",
    "        if index == 0:\n",
    "            return self.pop()\n",
    "        \n",
    "        # throw error is no root node\n",
    "        self.validate_root_exists()\n",
    "        \n",
    "        # throw error if index is out of range\n",
    "        if index < 0 or (self.length - 1) < index:\n",
    "            raise Exception(\"Index out of range\")\n",
    "\n",
    "        # get into (parent) index position\n",
    "        i = 0\n",
    "        parent_node = self.root\n",
    "        while i < (index - 1):\n",
    "            parent_node = parent_node.next\n",
    "            i += 1\n",
    "        \n",
    "        pop_node = parent_node.next\n",
    "        \n",
    "        # reassign parent's .next to \"skip\" over pop_node\n",
    "        parent_node.next = pop_node.next\n",
    "        self.length -= 1 # handle list length\n",
    "        return pop_node.value"
   ]
  },
  {
   "cell_type": "code",
   "execution_count": 8,
   "metadata": {},
   "outputs": [
    {
     "data": {
      "text/plain": [
       "LinkedList: Root = None"
      ]
     },
     "execution_count": 8,
     "metadata": {},
     "output_type": "execute_result"
    }
   ],
   "source": [
    "ll = LinkedList()\n",
    "ll"
   ]
  },
  {
   "cell_type": "code",
   "execution_count": 9,
   "metadata": {},
   "outputs": [],
   "source": [
    "ll.append(\"A\")\n",
    "ll.append(\"B\")\n",
    "ll.append(\"C\")\n",
    "ll.append(\"D\")\n",
    "ll.append(\"E\")"
   ]
  },
  {
   "cell_type": "code",
   "execution_count": 10,
   "metadata": {},
   "outputs": [
    {
     "name": "stdout",
     "output_type": "stream",
     "text": [
      "A, B, C, D, E, "
     ]
    }
   ],
   "source": [
    "ll.print_list()"
   ]
  },
  {
   "cell_type": "code",
   "execution_count": 11,
   "metadata": {},
   "outputs": [
    {
     "data": {
      "text/plain": [
       "5"
      ]
     },
     "execution_count": 11,
     "metadata": {},
     "output_type": "execute_result"
    }
   ],
   "source": [
    "ll.length"
   ]
  },
  {
   "cell_type": "code",
   "execution_count": 12,
   "metadata": {},
   "outputs": [
    {
     "data": {
      "text/plain": [
       "'B'"
      ]
     },
     "execution_count": 12,
     "metadata": {},
     "output_type": "execute_result"
    }
   ],
   "source": [
    "ll.pop_at_index(1)"
   ]
  },
  {
   "cell_type": "code",
   "execution_count": 13,
   "metadata": {},
   "outputs": [
    {
     "name": "stdout",
     "output_type": "stream",
     "text": [
      "A, C, D, E, "
     ]
    }
   ],
   "source": [
    "ll.print_list()"
   ]
  },
  {
   "cell_type": "code",
   "execution_count": 14,
   "metadata": {},
   "outputs": [
    {
     "data": {
      "text/plain": [
       "4"
      ]
     },
     "execution_count": 14,
     "metadata": {},
     "output_type": "execute_result"
    }
   ],
   "source": [
    "ll.length"
   ]
  },
  {
   "cell_type": "code",
   "execution_count": 15,
   "metadata": {},
   "outputs": [
    {
     "data": {
      "text/plain": [
       "'A'"
      ]
     },
     "execution_count": 15,
     "metadata": {},
     "output_type": "execute_result"
    }
   ],
   "source": [
    "ll.pop_at_index(0)"
   ]
  },
  {
   "cell_type": "code",
   "execution_count": 16,
   "metadata": {},
   "outputs": [
    {
     "data": {
      "text/plain": [
       "3"
      ]
     },
     "execution_count": 16,
     "metadata": {},
     "output_type": "execute_result"
    }
   ],
   "source": [
    "ll.length"
   ]
  },
  {
   "cell_type": "code",
   "execution_count": 17,
   "metadata": {},
   "outputs": [
    {
     "name": "stdout",
     "output_type": "stream",
     "text": [
      "C, D, E, "
     ]
    }
   ],
   "source": [
    "ll.print_list()"
   ]
  },
  {
   "cell_type": "markdown",
   "metadata": {},
   "source": [
    "## 3. Reverse a `LinkedList`"
   ]
  },
  {
   "cell_type": "code",
   "execution_count": 18,
   "metadata": {},
   "outputs": [],
   "source": [
    "def reverse_node_sequence(root_node):\n",
    "    prev_node = None\n",
    "    next_node = root_node\n",
    "    \n",
    "    while next_node:\n",
    "        # store current node temporarily\n",
    "        temp_curr_node = next_node\n",
    "        \n",
    "        # store next node\n",
    "        next_node = temp_curr_node.next\n",
    "        \n",
    "        # assign current node's .next pointer to prev_node\n",
    "        temp_curr_node.next = prev_node\n",
    "        \n",
    "        # assign prev_node to current node\n",
    "        prev_node = temp_curr_node\n",
    "    \n",
    "    return prev_node"
   ]
  },
  {
   "cell_type": "code",
   "execution_count": 19,
   "metadata": {},
   "outputs": [
    {
     "data": {
      "text/plain": [
       "Node E"
      ]
     },
     "execution_count": 19,
     "metadata": {},
     "output_type": "execute_result"
    }
   ],
   "source": [
    "reverse_node_sequence(ll.root)"
   ]
  },
  {
   "cell_type": "code",
   "execution_count": null,
   "metadata": {},
   "outputs": [],
   "source": []
  },
  {
   "cell_type": "code",
   "execution_count": 20,
   "metadata": {},
   "outputs": [],
   "source": [
    "class LinkedList:\n",
    "    def __init__(self):\n",
    "        self.root = None\n",
    "        self.length = 0\n",
    "    \n",
    "    def __repr__(self):\n",
    "        return f\"LinkedList: Root = {self.root if self.root else 'None'}\"\n",
    "    \n",
    "    def print_list(self):\n",
    "        curr_node = self.root\n",
    "        \n",
    "        while curr_node:\n",
    "            print(curr_node.value, end=\", \")\n",
    "            curr_node = curr_node.next\n",
    "    \n",
    "    def prepend(self, value):\n",
    "        new_node = Node(value)\n",
    "        self.length += 1 # handle list length\n",
    "        \n",
    "        # assign to root if no root\n",
    "        if not self.root:\n",
    "            self.root = new_node\n",
    "            return\n",
    "        \n",
    "        # add current \"chain\" of Nodes to new root\n",
    "        new_node.next = self.root\n",
    "        \n",
    "        # new_node becomes the root\n",
    "        self.root = new_node\n",
    "        \n",
    "    def append(self, value):\n",
    "        new_node = Node(value)\n",
    "        self.length += 1 # handle list length\n",
    "        \n",
    "        # assign to root if no root\n",
    "        if not self.root:\n",
    "            self.root = new_node\n",
    "            return\n",
    "        \n",
    "        # navigate to end of list\n",
    "        last_node = self.root\n",
    "        while last_node.next:\n",
    "            last_node = last_node.next\n",
    "        \n",
    "        last_node.next = new_node\n",
    "    \n",
    "    def validate_root_exists(self):\n",
    "        if self.root is None:\n",
    "            raise Exception(\"List is empty\")\n",
    "            \n",
    "    \n",
    "    def pop(self):\n",
    "        # throw error is no root node\n",
    "        self.validate_root_exists()\n",
    "            \n",
    "        # keep root object reference\n",
    "        temp_node = self.root\n",
    "        \n",
    "        # reassign root to next node\n",
    "        self.root = self.root.next\n",
    "        \n",
    "        self.length -= 1 #handle list length\n",
    "        return temp_node.value\n",
    "    \n",
    "    def pop_at_index(self, index):\n",
    "        if index == 0:\n",
    "            return self.pop()\n",
    "        \n",
    "        # throw error is no root node\n",
    "        self.validate_root_exists()\n",
    "        \n",
    "        # throw error if index is out of range\n",
    "        if index < 0 or (self.length - 1) < index:\n",
    "            raise Exception(\"Index out of range\")\n",
    "\n",
    "        # get into (parent) index position\n",
    "        i = 0\n",
    "        parent_node = self.root\n",
    "        while i < (index - 1):\n",
    "            parent_node = parent_node.next\n",
    "            i += 1\n",
    "        \n",
    "        pop_node = parent_node.next\n",
    "        \n",
    "        # reassign parent's .next to \"skip\" over pop_node\n",
    "        parent_node.next = pop_node.next\n",
    "        self.length -= 1 # handle list length\n",
    "        return pop_node.value\n",
    "    \n",
    "    \n",
    "    def reverse(self):\n",
    "        prev_node = None\n",
    "        next_node = self.root\n",
    "\n",
    "        while next_node:\n",
    "            # store current node temporarily\n",
    "            temp_curr_node = next_node\n",
    "\n",
    "            # store next node\n",
    "            next_node = temp_curr_node.next\n",
    "\n",
    "            # assign current node's .next pointer to prev_node\n",
    "            temp_curr_node.next = prev_node\n",
    "\n",
    "            # assign prev_node to current node\n",
    "            prev_node = temp_curr_node\n",
    "\n",
    "        # reassign root to last node (prev_node)\n",
    "        self.root = prev_node"
   ]
  },
  {
   "cell_type": "code",
   "execution_count": 21,
   "metadata": {},
   "outputs": [
    {
     "data": {
      "text/plain": [
       "LinkedList: Root = None"
      ]
     },
     "execution_count": 21,
     "metadata": {},
     "output_type": "execute_result"
    }
   ],
   "source": [
    "ll = LinkedList()\n",
    "ll"
   ]
  },
  {
   "cell_type": "code",
   "execution_count": 22,
   "metadata": {},
   "outputs": [],
   "source": [
    "ll.append(\"A\")\n",
    "ll.append(\"B\")\n",
    "ll.append(\"C\")\n",
    "ll.append(\"D\")\n",
    "ll.append(\"E\")"
   ]
  },
  {
   "cell_type": "code",
   "execution_count": 23,
   "metadata": {},
   "outputs": [
    {
     "name": "stdout",
     "output_type": "stream",
     "text": [
      "A, B, C, D, E, "
     ]
    }
   ],
   "source": [
    "ll.print_list()"
   ]
  },
  {
   "cell_type": "code",
   "execution_count": 24,
   "metadata": {},
   "outputs": [
    {
     "data": {
      "text/plain": [
       "5"
      ]
     },
     "execution_count": 24,
     "metadata": {},
     "output_type": "execute_result"
    }
   ],
   "source": [
    "ll.length"
   ]
  },
  {
   "cell_type": "code",
   "execution_count": 25,
   "metadata": {},
   "outputs": [],
   "source": [
    "ll.reverse()"
   ]
  },
  {
   "cell_type": "code",
   "execution_count": 26,
   "metadata": {},
   "outputs": [
    {
     "name": "stdout",
     "output_type": "stream",
     "text": [
      "E, D, C, B, A, "
     ]
    }
   ],
   "source": [
    "ll.print_list()"
   ]
  },
  {
   "cell_type": "code",
   "execution_count": null,
   "metadata": {},
   "outputs": [],
   "source": []
  },
  {
   "cell_type": "code",
   "execution_count": null,
   "metadata": {},
   "outputs": [],
   "source": []
  },
  {
   "cell_type": "code",
   "execution_count": null,
   "metadata": {},
   "outputs": [],
   "source": []
  },
  {
   "cell_type": "markdown",
   "metadata": {},
   "source": [
    "## 4. What is a doubly linked list?\n",
    "\n",
    "Same as before, but each node also has a reference to the previous node"
   ]
  },
  {
   "cell_type": "code",
   "execution_count": null,
   "metadata": {},
   "outputs": [],
   "source": []
  },
  {
   "cell_type": "code",
   "execution_count": null,
   "metadata": {},
   "outputs": [],
   "source": []
  }
 ],
 "metadata": {
  "kernelspec": {
   "display_name": "Python 3",
   "language": "python",
   "name": "python3"
  },
  "language_info": {
   "codemirror_mode": {
    "name": "ipython",
    "version": 3
   },
   "file_extension": ".py",
   "mimetype": "text/x-python",
   "name": "python",
   "nbconvert_exporter": "python",
   "pygments_lexer": "ipython3",
   "version": "3.8.5"
  }
 },
 "nbformat": 4,
 "nbformat_minor": 4
}
